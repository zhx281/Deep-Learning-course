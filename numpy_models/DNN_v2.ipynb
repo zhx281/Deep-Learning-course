{
  "nbformat": 4,
  "nbformat_minor": 0,
  "metadata": {
    "colab": {
      "name": "DNN_v2.ipynb",
      "version": "0.3.2",
      "provenance": [],
      "collapsed_sections": [],
      "include_colab_link": true
    },
    "kernelspec": {
      "name": "python3",
      "display_name": "Python 3"
    }
  },
  "cells": [
    {
      "cell_type": "markdown",
      "metadata": {
        "id": "view-in-github",
        "colab_type": "text"
      },
      "source": [
        "<a href=\"https://colab.research.google.com/github/zhx281/Deep-Learning-course/blob/master/numpy_models/DNN_v2.ipynb\" target=\"_parent\"><img src=\"https://colab.research.google.com/assets/colab-badge.svg\" alt=\"Open In Colab\"/></a>"
      ]
    },
    {
      "cell_type": "markdown",
      "metadata": {
        "id": "Thghw37PKwgs",
        "colab_type": "text"
      },
      "source": [
        "# Prefix\n",
        "Within this notebook, it contains multiple modified projects from the course two,  [Improving Deep Neural Networks: Hyperparameter tuning, Regularization and Optimization](https://www.coursera.org/learn/deep-neural-network?specialization=deep-learning) of the [Deep Learning Specialization](https://www.coursera.org/specializations/deep-learning) on [coursea.org](https://www.coursera.org)."
      ]
    },
    {
      "cell_type": "markdown",
      "metadata": {
        "id": "eLb2iQ-FsV9B",
        "colab_type": "text"
      },
      "source": [
        "# Section 1: Creating Wrappers for a DNN, Deep Neural Network\n",
        "The DNN model is going to be created using the numpy library."
      ]
    },
    {
      "cell_type": "code",
      "metadata": {
        "id": "WJ1sx8N9m9Xd",
        "colab_type": "code",
        "colab": {}
      },
      "source": [
        "import numpy as np"
      ],
      "execution_count": 0,
      "outputs": []
    },
    {
      "cell_type": "markdown",
      "metadata": {
        "id": "E-F0GOYJL84i",
        "colab_type": "text"
      },
      "source": [
        "## Step 1: Creating Some helper functions"
      ]
    },
    {
      "cell_type": "markdown",
      "metadata": {
        "id": "7dzVwjQaMfX5",
        "colab_type": "text"
      },
      "source": [
        "### Activation Functions\n",
        "Create the relu and sigmoid activation function for both forward and backward propagation."
      ]
    },
    {
      "cell_type": "code",
      "metadata": {
        "id": "JCh6nIPDoCsF",
        "colab_type": "code",
        "colab": {}
      },
      "source": [
        "# Basic functions for sigmoid and relu\n",
        "# activation function\n",
        "def relu(Z):\n",
        "  A = np.maximum(0, Z)\n",
        "  return A\n",
        "\n",
        "def sigmoid(Z):\n",
        "  A = 1/(1+np.exp(-Z))\n",
        "  return A\n",
        "\n",
        "# activation function backward\n",
        "def relu_backward(dA, cache):\n",
        "  Z = cache\n",
        "  dZ = np.array(dA, copy=True)\n",
        "  dZ[Z <= 0] = 0\n",
        "  return dZ\n",
        "\n",
        "def sigmoid_backward(dA, cache):\n",
        "  Z = cache\n",
        "  s = 1/(1+np.exp(-Z))\n",
        "  dZ = dA * s * (1-s)\n",
        "  return dZ"
      ],
      "execution_count": 0,
      "outputs": []
    },
    {
      "cell_type": "markdown",
      "metadata": {
        "id": "DdVPruWiMvXM",
        "colab_type": "text"
      },
      "source": [
        "### Parameters initializer"
      ]
    },
    {
      "cell_type": "code",
      "metadata": {
        "id": "oAp95-xDnFDh",
        "colab_type": "code",
        "colab": {}
      },
      "source": [
        "# helper for weights and biases\n",
        "def init_weight(d1, d2, he):\n",
        "  if not he:\n",
        "    return np.random.randn(d1, d2) / np.sqrt(d2)\n",
        "  else:\n",
        "    # using he initialization\n",
        "    return np.random.randn(d1, d2)*np.sqrt(2./d2)\n",
        "\n",
        "def init_bias(d1):\n",
        "  return np.zeros(shape=(d1, 1))"
      ],
      "execution_count": 0,
      "outputs": []
    },
    {
      "cell_type": "markdown",
      "metadata": {
        "id": "0u2Sg3aeM_tl",
        "colab_type": "text"
      },
      "source": [
        "## Step 2: Creating Layers Class\n",
        "The layers class contains some methods for initializing paramters, doing linear forward and applying an activation function."
      ]
    },
    {
      "cell_type": "code",
      "metadata": {
        "id": "-9OVIyjoakaS",
        "colab_type": "code",
        "colab": {}
      },
      "source": [
        "class layers:\n",
        "  def __init__(self, input_dim, unit, activation, he=False, kp=1):\n",
        "    assert(isinstance(input_dim, int)), \"input_dim must be an integer\"\n",
        "    assert(isinstance(unit, int)), \"unit must be an integer\"\n",
        "    assert(activation=='relu' or activation=='sigmoid'), \\\n",
        "      \"activation can only be either relu or sigmoid\"\n",
        "    self.input_dim = input_dim\n",
        "    self.unit = unit\n",
        "    self.activation = activation\n",
        "    self.he = he\n",
        "    self.kp = kp\n",
        "    self.name = \"\"     # name going to use for identification\n",
        "  \n",
        "  # initializing parameters\n",
        "  def init_parameters(self):\n",
        "    self.W = init_weight(self.unit, self.input_dim, he=self.he)\n",
        "    self.b = init_bias(self.unit)\n",
        "  \n",
        "  # one step linear forward propagation\n",
        "  def matmul(self, X):\n",
        "    self.Z = self.W.dot(X) + self.b\n",
        "    # stores previous layer, weight and bias into linear_cache\n",
        "    self.linear_cache = (np.copy(X), np.copy(self.W), np.copy(self.b))\n",
        "    \n",
        "  def apply_activation(self, X):\n",
        "    self.matmul(X)\n",
        "    # store the linear forward output into activation_cache\n",
        "    self.activation_cache = np.copy(self.Z)\n",
        "    # pick an activation either relu or sigmoid\n",
        "    if self.activation == 'relu':\n",
        "      self.A = relu(self.Z)\n",
        "    elif self.activation == 'sigmoid':\n",
        "      self.A = sigmoid(self.Z)\n",
        "  \n",
        "  # adding dropout after activation\n",
        "  def add_dropout(self):\n",
        "    self.D = np.random.rand(self.A.shape[0], self.A.shape[1])\n",
        "    self.D = self.D < self.kp\n",
        "    self.A = self.A * self.D\n",
        "    self.A = self.A / self.kp"
      ],
      "execution_count": 0,
      "outputs": []
    },
    {
      "cell_type": "code",
      "metadata": {
        "id": "HEr8XDxTa1OP",
        "colab_type": "code",
        "colab": {}
      },
      "source": [
        "# inheritance of layers class\n",
        "class Dense(layers):\n",
        "  def __init__(self, input_dim, unit, activation='relu', name='Dense', counter=1, he=False, kp=1):\n",
        "    layers.__init__(self, input_dim, unit, activation, he=he, kp=kp)\n",
        "    # changing name with Dense_N for the number of layers\n",
        "    self.name = name+'_'+str(counter)\n",
        "    self.init_parameters()"
      ],
      "execution_count": 0,
      "outputs": []
    },
    {
      "cell_type": "markdown",
      "metadata": {
        "id": "EDjQjMHnOXbs",
        "colab_type": "text"
      },
      "source": [
        "## Step 3: Cost function and Backpropapagtion helpers"
      ]
    },
    {
      "cell_type": "markdown",
      "metadata": {
        "id": "uI741eeoOjIT",
        "colab_type": "text"
      },
      "source": [
        "### Cost function"
      ]
    },
    {
      "cell_type": "code",
      "metadata": {
        "id": "O-qWfGWJ9gNv",
        "colab_type": "code",
        "colab": {}
      },
      "source": [
        "# calculating training cost\n",
        "def compute_cost(AL, Y):\n",
        "  m = Y.shape[1]\n",
        "  logprobs = np.multiply(-np.log(AL), Y) + np.multiply(-np.log(1-AL), 1-Y)\n",
        "  cost = 1./m * np.nansum(logprobs)\n",
        "  return cost"
      ],
      "execution_count": 0,
      "outputs": []
    },
    {
      "cell_type": "code",
      "metadata": {
        "id": "iI1GcrIzaLwx",
        "colab_type": "code",
        "colab": {}
      },
      "source": [
        "# calculating cost with l2 regularization\n",
        "def compute_cost_with_regularization(AL, Y, nn, lambd=0.1):\n",
        "  m = Y.shape[1]\n",
        "  weights = None\n",
        "  for name in nn.keys():\n",
        "    if weights is None:\n",
        "      weights = np.sum(np.square(nn[name].W))\n",
        "    else:\n",
        "      weights += np.sum(np.square(nn[name].W))\n",
        "  \n",
        "  cross_entropy_cost = compute_cost(AL, Y)\n",
        "  L2_regularization_cost = (1/m)*(lambd/2)*weights\n",
        "  cost = cross_entropy_cost + L2_regularization_cost\n",
        "  return cost"
      ],
      "execution_count": 0,
      "outputs": []
    },
    {
      "cell_type": "markdown",
      "metadata": {
        "id": "4FrkuUbxOlZN",
        "colab_type": "text"
      },
      "source": [
        "### Backpropagation Helpers"
      ]
    },
    {
      "cell_type": "code",
      "metadata": {
        "id": "o9lE7J5N7dlr",
        "colab_type": "code",
        "colab": {}
      },
      "source": [
        "# backpropagation formulas\n",
        "def initializing_backprop(pred, Y):\n",
        "  # returns dAL\n",
        "  return -(np.divide(Y, pred) - np.divide(1 - Y, 1 - pred)) \n",
        "\n",
        "# single step linear backward\n",
        "def linear_backward(dZ, linear_cache, lambd=0):\n",
        "  A_prev, W, b = linear_cache\n",
        "  m = A_prev.shape[1]\n",
        "  # calculating the gradients\n",
        "  dW = 1./m * np.dot(dZ, A_prev.T)\n",
        "  if lambd > 0:\n",
        "    dW = dW + ((lambd/m)*W)\n",
        "  db = 1./m * np.sum(dZ, axis=1, keepdims=True)\n",
        "  dAL = np.dot(W.T, dZ)\n",
        "  return dAL, dW, db\n",
        "\n",
        "# masking backward activation with the same dropout masks\n",
        "# for backpropagation\n",
        "def add_dropout_backward(dA, dD, kp):\n",
        "  dA = dA * dD\n",
        "  dA = dA / kp\n",
        "  return dA\n",
        "\n",
        "# update parameter\n",
        "def update(Parameter, dParameter, learning_rate):\n",
        "  return Parameter - (learning_rate*dParameter)"
      ],
      "execution_count": 0,
      "outputs": []
    },
    {
      "cell_type": "markdown",
      "metadata": {
        "id": "OFxe42CMOrQ-",
        "colab_type": "text"
      },
      "source": [
        "## Step 4: Create the Models Class\n",
        "The models class initialize the parameters and layers with hidden_units, and specific an out_activation function. This class also contains the forward propagation steps, backward propagation steps, update parameters, training, predict, and evaluation methods."
      ]
    },
    {
      "cell_type": "code",
      "metadata": {
        "id": "0WrEU7adbVxd",
        "colab_type": "code",
        "colab": {}
      },
      "source": [
        "class models:\n",
        "  def __init__(self, hidden_units, out_activation='sigmoid', he=False, lambd=0, kp=1):\n",
        "    self.out_activation = out_activation\n",
        "    self.lambd = lambd\n",
        "    self.kp = kp\n",
        "    # empty dictionary to store the layers\n",
        "    self.nn = {}\n",
        "    # initializing parameters: weights and biases\n",
        "    L = len(hidden_units)\n",
        "    for l in range(1, L):\n",
        "      d = Dense(hidden_units[l-1], hidden_units[l], counter=l, he=he, kp=self.kp)\n",
        "      # renaming each layer\n",
        "      self.nn[d.name] = d\n",
        "      if l == (L-1):\n",
        "        # store the name of the final layer \n",
        "        self.last_layer = d.name\n",
        "  \n",
        "  # forward propagation\n",
        "  def forward(self, X):\n",
        "    A_prev = X\n",
        "    self.drop_cache = []\n",
        "    for name in self.nn.keys():\n",
        "      if name == self.last_layer:\n",
        "        self.nn[name].activation = self.out_activation\n",
        "      self.nn[name].apply_activation(A_prev)\n",
        "      \n",
        "      # if dropout add_dropout and store in a list\n",
        "      if self.kp < 1. and name != self.last_layer:\n",
        "        self.nn[name].add_dropout()\n",
        "        self.drop_cache.append(np.copy(self.nn[name].D))\n",
        "      \n",
        "      A_prev = self.nn[name].A\n",
        "    # stores the final layer as the output or prediction\n",
        "    self.output = A_prev\n",
        "  \n",
        "  # backward propagation\n",
        "  def backward(self, Y):\n",
        "    assert(self.output.shape == Y.shape), \"label and predict is not the same shape\"\n",
        "    self.grads = {}\n",
        "    # initializing the backpropagation\n",
        "    dAL = initializing_backprop(self.output, Y)\n",
        "    l = len(self.drop_cache)-1\n",
        "\n",
        "    # reversing the layers\n",
        "    for name in reversed(list(self.nn.keys())):\n",
        "      activation_cache = self.nn[name].activation_cache\n",
        "      act = self.nn[name].activation\n",
        "      if act == 'sigmoid':\n",
        "        dZ = sigmoid_backward(dAL, activation_cache)\n",
        "      elif act == 'relu':\n",
        "        dZ = relu_backward(dAL, activation_cache)\n",
        "      # linear backward\n",
        "      dAL, dW, db = linear_backward(dZ, self.nn[name].linear_cache, lambd=self.lambd)\n",
        "      if self.kp < 1.:\n",
        "        if l >= 0:\n",
        "          # last activation with current dropout mask\n",
        "          dAL = add_dropout_backward(dAL, self.drop_cache[l], self.kp)\n",
        "\n",
        "      # storing gradients\n",
        "      self.grads[name] = {\"W\": dW, \"b\": db}\n",
        "      l -= 1\n",
        "  \n",
        "  # update parameters with learning_rate and gradients\n",
        "  def update_parameters(self, learning_rate):\n",
        "    for name in self.nn.keys():\n",
        "      self.nn[name].W = update(self.nn[name].W, self.grads[name]['W'], learning_rate)\n",
        "      self.nn[name].b = update(self.nn[name].b, self.grads[name]['b'], learning_rate)\n",
        "  \n",
        "  # training process of the model\n",
        "  # if there is validation set also return accuracy at each display step\n",
        "  def train(self, X, Y, num_iters, lr=0.01, verbose=True, \n",
        "            display_steps=100, validation_set=None):\n",
        "    # placeholder for cost and accuracy\n",
        "    costs = []\n",
        "    accuracies = []\n",
        "    \n",
        "    for i in range(1, num_iters):\n",
        "      self.forward(X)\n",
        "      if self.lambd == 0:\n",
        "        cost = compute_cost(self.output, Y)\n",
        "      else:\n",
        "        cost = compute_cost_with_regularization(self.output, Y, self.nn, lambd=self.lambd)\n",
        "      self.backward(Y)\n",
        "      self.update_parameters(lr)\n",
        "      \n",
        "      # if verbose print out results\n",
        "      if verbose and (i %display_steps==0 or i == num_iters):\n",
        "        costs.append(cost)\n",
        "        if validation_set is not None:\n",
        "          assert isinstance(validation_set, tuple), \\\n",
        "            'Validation need to be tuple containing input_data, and labels'\n",
        "          _x, _y = validation_set\n",
        "          acc = self.evaluate(_x, _y)\n",
        "          accuracies.append(acc)\n",
        "          print(\"Iter: {:6} | Cost: {:.6f} | Accuracy: {:.6f}\".format(i, cost, acc))\n",
        "        else:\n",
        "          print(\"Iter: {:6} | Cost: {:.6f}\".format(i, cost))\n",
        "      elif not verbose:\n",
        "        costs.append(cost)\n",
        "    \n",
        "    if not verbose:\n",
        "      display_steps = 1\n",
        "    # stores the metrics in history dictionary\n",
        "    history = {'Cost': np.array(costs),\n",
        "               'Accuary' : np.array(accuracies),\n",
        "               'steps' : display_steps}\n",
        "    return history\n",
        "  \n",
        "  # generate prediction with the forward propagation\n",
        "  def predict(self, X):\n",
        "    self.forward(X)\n",
        "    return self.output\n",
        "  \n",
        "  # evaluate the trained model\n",
        "  def evaluate(self, X, Y):\n",
        "    total_length = X.shape[1]\n",
        "    preds = np.round(self.predict(X))\n",
        "    correct = preds == Y\n",
        "    accuracy = np.sum(correct) / total_length\n",
        "    return accuracy"
      ],
      "execution_count": 0,
      "outputs": []
    },
    {
      "cell_type": "markdown",
      "metadata": {
        "id": "Te5MGCnKqOyM",
        "colab_type": "text"
      },
      "source": [
        "# Section 2: Download the Dataset"
      ]
    },
    {
      "cell_type": "markdown",
      "metadata": {
        "id": "LieMUcWsRFd8",
        "colab_type": "text"
      },
      "source": [
        "### Downloading Dataset"
      ]
    },
    {
      "cell_type": "code",
      "metadata": {
        "id": "GQnhrZM1CdMi",
        "colab_type": "code",
        "outputId": "e61ef05e-4f04-4687-cee7-f1cf57246f33",
        "colab": {
          "base_uri": "https://localhost:8080/",
          "height": 343
        }
      },
      "source": [
        "# downloading the dataset from google drive with a shareable link\n",
        "import os, zipfile\n",
        "\n",
        "if not os.path.exists('/content/catvsnoncat.zip'):\n",
        "  ! wget -O /content/catvsnoncat.zip \"https://drive.google.com/uc?export=download&id=1SLBYw2LPCuNpXzbGXcPCFLgkHL7aB5Iw\"\n",
        "\n",
        "if not os.path.exists('/content/catvsnoncat/'):\n",
        "  ! mkdir /content/catvsnoncat\n",
        "\n",
        "# check if the file was extacted or not\n",
        "h5 = os.listdir('/content/catvsnoncat')\n",
        "if len(h5) == 0:\n",
        "  local_zip = '/content/catvsnoncat.zip'\n",
        "  zip_ref = zipfile.ZipFile(local_zip, 'r')\n",
        "  zip_ref.extractall('/content/catvsnoncat/')\n",
        "  zip_ref.close()\n",
        "\n",
        "print('Zip download and extacted')"
      ],
      "execution_count": 10,
      "outputs": [
        {
          "output_type": "stream",
          "text": [
            "--2019-06-21 20:20:57--  https://drive.google.com/uc?export=download&id=1SLBYw2LPCuNpXzbGXcPCFLgkHL7aB5Iw\n",
            "Resolving drive.google.com (drive.google.com)... 74.125.141.100, 74.125.141.101, 74.125.141.113, ...\n",
            "Connecting to drive.google.com (drive.google.com)|74.125.141.100|:443... connected.\n",
            "HTTP request sent, awaiting response... 302 Moved Temporarily\n",
            "Location: https://doc-0c-64-docs.googleusercontent.com/docs/securesc/ha0ro937gcuc7l7deffksulhg5h7mbp1/vjpubucu8dslk13lnns3f3anphhbvedt/1561147200000/15049674222289829849/*/1SLBYw2LPCuNpXzbGXcPCFLgkHL7aB5Iw?e=download [following]\n",
            "Warning: wildcards not supported in HTTP.\n",
            "--2019-06-21 20:21:02--  https://doc-0c-64-docs.googleusercontent.com/docs/securesc/ha0ro937gcuc7l7deffksulhg5h7mbp1/vjpubucu8dslk13lnns3f3anphhbvedt/1561147200000/15049674222289829849/*/1SLBYw2LPCuNpXzbGXcPCFLgkHL7aB5Iw?e=download\n",
            "Resolving doc-0c-64-docs.googleusercontent.com (doc-0c-64-docs.googleusercontent.com)... 74.125.141.132, 2607:f8b0:400c:c06::84\n",
            "Connecting to doc-0c-64-docs.googleusercontent.com (doc-0c-64-docs.googleusercontent.com)|74.125.141.132|:443... connected.\n",
            "HTTP request sent, awaiting response... 200 OK\n",
            "Length: unspecified [application/zip]\n",
            "Saving to: ‘/content/catvsnoncat.zip’\n",
            "\n",
            "/content/catvsnonca     [ <=>                ]   2.66M  --.-KB/s    in 0.02s   \n",
            "\n",
            "2019-06-21 20:21:02 (115 MB/s) - ‘/content/catvsnoncat.zip’ saved [2787810]\n",
            "\n",
            "Zip download and extacted\n"
          ],
          "name": "stdout"
        }
      ]
    },
    {
      "cell_type": "markdown",
      "metadata": {
        "id": "9zIcQPW2RAEU",
        "colab_type": "text"
      },
      "source": [
        "### Load the dataset"
      ]
    },
    {
      "cell_type": "code",
      "metadata": {
        "id": "yXFXV-zvk2xG",
        "colab_type": "code",
        "colab": {}
      },
      "source": [
        "import h5py\n",
        "from PIL import Image\n",
        "from matplotlib import pyplot as plt"
      ],
      "execution_count": 0,
      "outputs": []
    },
    {
      "cell_type": "code",
      "metadata": {
        "id": "sRnwKwQFqaNI",
        "colab_type": "code",
        "colab": {}
      },
      "source": [
        "# helper for splitting the dataset\n",
        "def load_data(directory):\n",
        "  train_dataset = h5py.File(directory+'/train_catvnoncat.h5', \"r\")\n",
        "  train_set_x_orig = np.array(train_dataset[\"train_set_x\"][:]) # your train set features\n",
        "  train_set_y_orig = np.array(train_dataset[\"train_set_y\"][:]) # your train set labels\n",
        "\n",
        "  test_dataset = h5py.File(directory+'/test_catvnoncat.h5', \"r\")\n",
        "  test_set_x_orig = np.array(test_dataset[\"test_set_x\"][:]) # your test set features\n",
        "  test_set_y_orig = np.array(test_dataset[\"test_set_y\"][:]) # your test set labels\n",
        "\n",
        "  classes = np.array(test_dataset[\"list_classes\"][:]) # the list of classes\n",
        "\n",
        "  train_set_y_orig = train_set_y_orig.reshape((1, train_set_y_orig.shape[0]))\n",
        "  test_set_y_orig = test_set_y_orig.reshape((1, test_set_y_orig.shape[0]))\n",
        "\n",
        "  return train_set_x_orig, train_set_y_orig, test_set_x_orig, test_set_y_orig, classes"
      ],
      "execution_count": 0,
      "outputs": []
    },
    {
      "cell_type": "code",
      "metadata": {
        "id": "B4oU9zHGqpr6",
        "colab_type": "code",
        "colab": {}
      },
      "source": [
        "# splitting the dataset into training and testing\n",
        "train_x_orig, train_y, test_x_orig, test_y, classes = load_data('/content/catvsnoncat')"
      ],
      "execution_count": 0,
      "outputs": []
    },
    {
      "cell_type": "markdown",
      "metadata": {
        "id": "wdX_U1UmRRWR",
        "colab_type": "text"
      },
      "source": [
        "### Getting to know the Dataset"
      ]
    },
    {
      "cell_type": "code",
      "metadata": {
        "id": "X45SwCkyqrns",
        "colab_type": "code",
        "outputId": "929e3f94-a15a-4fad-8d3c-c6ebed50b3ca",
        "colab": {
          "base_uri": "https://localhost:8080/",
          "height": 286
        }
      },
      "source": [
        "# displaying an image from dataset\n",
        "index = 10\n",
        "plt.imshow(train_x_orig[index])\n",
        "print (\"y = \" + str(train_y[0,index]) + \n",
        "      \". It's a \" + classes[train_y[0,index]].decode(\"utf-8\") + \" picture.\")"
      ],
      "execution_count": 14,
      "outputs": [
        {
          "output_type": "stream",
          "text": [
            "y = 0. It's a non-cat picture.\n"
          ],
          "name": "stdout"
        },
        {
          "output_type": "display_data",
          "data": {
            "image/png": "[encoded data removed]",
            "text/plain": [
              "<Figure size 432x288 with 1 Axes>"
            ]
          },
          "metadata": {
            "tags": []
          }
        }
      ]
    },
    {
      "cell_type": "code",
      "metadata": {
        "id": "NsZzsARoqtU1",
        "colab_type": "code",
        "outputId": "658357c3-972a-4e80-f5c0-3b990541e05b",
        "colab": {
          "base_uri": "https://localhost:8080/",
          "height": 136
        }
      },
      "source": [
        "# Explore your dataset \n",
        "m_train = train_x_orig.shape[0]\n",
        "num_px = train_x_orig.shape[1]\n",
        "m_test = test_x_orig.shape[0]\n",
        "\n",
        "print (\"Number of training examples: \" + str(m_train))\n",
        "print (\"Number of testing examples: \" + str(m_test))\n",
        "print (\"Each image is of size: (\" + str(num_px) + \", \" + str(num_px) + \", 3)\")\n",
        "print (\"train_x_orig shape: \" + str(train_x_orig.shape))\n",
        "print (\"train_y shape: \" + str(train_y.shape))\n",
        "print (\"test_x_orig shape: \" + str(test_x_orig.shape))\n",
        "print (\"test_y shape: \" + str(test_y.shape))"
      ],
      "execution_count": 15,
      "outputs": [
        {
          "output_type": "stream",
          "text": [
            "Number of training examples: 209\n",
            "Number of testing examples: 50\n",
            "Each image is of size: (64, 64, 3)\n",
            "train_x_orig shape: (209, 64, 64, 3)\n",
            "train_y shape: (1, 209)\n",
            "test_x_orig shape: (50, 64, 64, 3)\n",
            "test_y shape: (1, 50)\n"
          ],
          "name": "stdout"
        }
      ]
    },
    {
      "cell_type": "markdown",
      "metadata": {
        "id": "WtdT74nVRdBI",
        "colab_type": "text"
      },
      "source": [
        "### Reshaping and Standardize the Dataset"
      ]
    },
    {
      "cell_type": "code",
      "metadata": {
        "id": "YYR1WgOAqvXO",
        "colab_type": "code",
        "outputId": "1fc760fa-1cfb-440f-b29a-f8f9d1c7ac5c",
        "colab": {
          "base_uri": "https://localhost:8080/",
          "height": 51
        }
      },
      "source": [
        "# Reshape the training and test examples \n",
        "train_x_flatten = train_x_orig.reshape(train_x_orig.shape[0], -1).T   # The \"-1\" makes reshape flatten the remaining dimensions\n",
        "test_x_flatten = test_x_orig.reshape(test_x_orig.shape[0], -1).T\n",
        "\n",
        "# Standardize data to have feature values between 0 and 1.\n",
        "train_x = train_x_flatten/255.\n",
        "test_x = test_x_flatten/255.\n",
        "\n",
        "print (\"train_x's shape: \" + str(train_x.shape))\n",
        "print (\"test_x's shape: \" + str(test_x.shape))"
      ],
      "execution_count": 16,
      "outputs": [
        {
          "output_type": "stream",
          "text": [
            "train_x's shape: (12288, 209)\n",
            "test_x's shape: (12288, 50)\n"
          ],
          "name": "stdout"
        }
      ]
    },
    {
      "cell_type": "markdown",
      "metadata": {
        "id": "d2_Nh-S_wxSB",
        "colab_type": "text"
      },
      "source": [
        "# Section 3: Training the Model"
      ]
    },
    {
      "cell_type": "code",
      "metadata": {
        "id": "l9n4GtQH1Qgp",
        "colab_type": "code",
        "colab": {}
      },
      "source": [
        "def plot(history, title='Training'):\n",
        "  # plotting the result\n",
        "  for key in history.keys():\n",
        "    if key != 'steps':\n",
        "      plt.plot(np.squeeze(history[key]))\n",
        "      plt.ylabel(key)\n",
        "      plt.xlabel('iterations (per'+ str(history['steps']) + 'step)')\n",
        "      plt.title(title+' ' + key)\n",
        "      plt.show()"
      ],
      "execution_count": 0,
      "outputs": []
    },
    {
      "cell_type": "markdown",
      "metadata": {
        "id": "HodEUeaKRu5w",
        "colab_type": "text"
      },
      "source": [
        "## Model Training"
      ]
    },
    {
      "cell_type": "markdown",
      "metadata": {
        "id": "KN_GCKvsqlBM",
        "colab_type": "text"
      },
      "source": [
        "### He Initialization Model"
      ]
    },
    {
      "cell_type": "code",
      "metadata": {
        "id": "urtIxyr_qxEv",
        "colab_type": "code",
        "colab": {}
      },
      "source": [
        "# initializing the model with hidden units with He Initialization\n",
        "model = models([12288, 128, 64, 32, 16, 1], he=True)"
      ],
      "execution_count": 0,
      "outputs": []
    },
    {
      "cell_type": "code",
      "metadata": {
        "id": "EjE0Aqreq3fj",
        "colab_type": "code",
        "outputId": "1111b25e-1369-4ae0-c749-0f39715fa4b8",
        "colab": {
          "base_uri": "https://localhost:8080/",
          "height": 238
        }
      },
      "source": [
        "he_history = model.train(train_x, train_y,\n",
        "                         num_iters=1200, lr=0.0075,\n",
        "                         validation_set=(test_x, test_y))"
      ],
      "execution_count": 19,
      "outputs": [
        {
          "output_type": "stream",
          "text": [
            "Iter:      0 | Cost: 0.772349 | Accuracy: 0.340000\n",
            "Iter:    100 | Cost: 0.511838 | Accuracy: 0.620000\n",
            "Iter:    200 | Cost: 0.396783 | Accuracy: 0.800000\n",
            "Iter:    300 | Cost: 0.290120 | Accuracy: 0.820000\n",
            "Iter:    400 | Cost: 0.141823 | Accuracy: 0.760000\n",
            "Iter:    500 | Cost: 0.079573 | Accuracy: 0.760000\n",
            "Iter:    600 | Cost: 0.032632 | Accuracy: 0.760000\n",
            "Iter:    700 | Cost: 0.019630 | Accuracy: 0.740000\n",
            "Iter:    800 | Cost: 0.013579 | Accuracy: 0.740000\n",
            "Iter:    900 | Cost: 0.010044 | Accuracy: 0.740000\n",
            "Iter:   1000 | Cost: 0.007730 | Accuracy: 0.740000\n",
            "Iter:   1100 | Cost: 0.006212 | Accuracy: 0.740000\n",
            "Iter:   1199 | Cost: 0.005158 | Accuracy: 0.740000\n"
          ],
          "name": "stdout"
        }
      ]
    },
    {
      "cell_type": "markdown",
      "metadata": {
        "id": "SxSbGc9ZrVXb",
        "colab_type": "text"
      },
      "source": [
        "### L2 Regularization"
      ]
    },
    {
      "cell_type": "code",
      "metadata": {
        "id": "pMAn3PPProis",
        "colab_type": "code",
        "colab": {}
      },
      "source": [
        "model = models([12288, 128, 64, 32, 16, 1], lambd=.7)"
      ],
      "execution_count": 0,
      "outputs": []
    },
    {
      "cell_type": "code",
      "metadata": {
        "id": "AhEvnPkLrsi2",
        "colab_type": "code",
        "colab": {
          "base_uri": "https://localhost:8080/",
          "height": 238
        },
        "outputId": "c3e63703-9176-40ea-bf41-f5cbd99adee9"
      },
      "source": [
        "l2_history = model.train(train_x, train_y,\n",
        "                         num_iters=1200, lr=0.0075,\n",
        "                         validation_set=(test_x, test_y))"
      ],
      "execution_count": 21,
      "outputs": [
        {
          "output_type": "stream",
          "text": [
            "Iter:      0 | Cost: 1.109942 | Accuracy: 0.360000\n",
            "Iter:    100 | Cost: 1.010343 | Accuracy: 0.340000\n",
            "Iter:    200 | Cost: 0.923809 | Accuracy: 0.420000\n",
            "Iter:    300 | Cost: 0.859836 | Accuracy: 0.400000\n",
            "Iter:    400 | Cost: 0.792975 | Accuracy: 0.420000\n",
            "Iter:    500 | Cost: 0.707345 | Accuracy: 0.500000\n",
            "Iter:    600 | Cost: 0.674077 | Accuracy: 0.500000\n",
            "Iter:    700 | Cost: 0.495645 | Accuracy: 0.680000\n",
            "Iter:    800 | Cost: 0.457346 | Accuracy: 0.720000\n",
            "Iter:    900 | Cost: 0.429222 | Accuracy: 0.760000\n",
            "Iter:   1000 | Cost: 0.416521 | Accuracy: 0.760000\n",
            "Iter:   1100 | Cost: 0.409504 | Accuracy: 0.760000\n",
            "Iter:   1199 | Cost: 0.404616 | Accuracy: 0.760000\n"
          ],
          "name": "stdout"
        }
      ]
    },
    {
      "cell_type": "markdown",
      "metadata": {
        "id": "57pIzllkrehK",
        "colab_type": "text"
      },
      "source": [
        "### Dropout Layers"
      ]
    },
    {
      "cell_type": "code",
      "metadata": {
        "id": "ayFbhbvGrzf_",
        "colab_type": "code",
        "colab": {}
      },
      "source": [
        "model = models([12288, 128, 64, 32, 16, 1], kp=.7)"
      ],
      "execution_count": 0,
      "outputs": []
    },
    {
      "cell_type": "code",
      "metadata": {
        "id": "Zsw8BSQQr322",
        "colab_type": "code",
        "colab": {
          "base_uri": "https://localhost:8080/",
          "height": 238
        },
        "outputId": "ebb9927e-b94d-41ea-f812-2a3b87e878ab"
      },
      "source": [
        "dropout_history = model.train(train_x, train_y,\n",
        "                              num_iters=1200, lr=0.0075,\n",
        "                              validation_set=(test_x, test_y))"
      ],
      "execution_count": 32,
      "outputs": [
        {
          "output_type": "stream",
          "text": [
            "Iter:      0 | Cost: 0.707315 | Accuracy: 0.700000\n",
            "Iter:    100 | Cost: 0.688496 | Accuracy: 0.360000\n",
            "Iter:    200 | Cost: 0.643141 | Accuracy: 0.360000\n",
            "Iter:    300 | Cost: 0.635850 | Accuracy: 0.340000\n",
            "Iter:    400 | Cost: 0.596002 | Accuracy: 0.360000\n",
            "Iter:    500 | Cost: 0.532553 | Accuracy: 0.340000\n",
            "Iter:    600 | Cost: 0.519710 | Accuracy: 0.520000\n",
            "Iter:    700 | Cost: 0.435770 | Accuracy: 0.640000\n",
            "Iter:    800 | Cost: 0.359935 | Accuracy: 0.660000\n",
            "Iter:    900 | Cost: 0.324950 | Accuracy: 0.740000\n",
            "Iter:   1000 | Cost: 0.591665 | Accuracy: 0.640000\n",
            "Iter:   1100 | Cost: 0.218085 | Accuracy: 0.720000\n",
            "Iter:   1199 | Cost: 0.179171 | Accuracy: 0.700000\n"
          ],
          "name": "stdout"
        }
      ]
    },
    {
      "cell_type": "markdown",
      "metadata": {
        "id": "TR8f6cxCrh-o",
        "colab_type": "text"
      },
      "source": [
        "### With All"
      ]
    },
    {
      "cell_type": "code",
      "metadata": {
        "id": "22D1w_Jjr5q8",
        "colab_type": "code",
        "colab": {}
      },
      "source": [
        "model = models([12288, 128, 64, 32, 16, 1], he=True, lambd=.2, kp=.7)"
      ],
      "execution_count": 0,
      "outputs": []
    },
    {
      "cell_type": "code",
      "metadata": {
        "id": "Xa2UCUS5sDO1",
        "colab_type": "code",
        "colab": {
          "base_uri": "https://localhost:8080/",
          "height": 238
        },
        "outputId": "5fff6781-11a2-408c-d885-c223bb4609dc"
      },
      "source": [
        "all_history = model.train(train_x, train_y,\n",
        "                          num_iters=1200, lr=0.0075,\n",
        "                          validation_set=(test_x, test_y))"
      ],
      "execution_count": 25,
      "outputs": [
        {
          "output_type": "stream",
          "text": [
            "Iter:      0 | Cost: 0.971648 | Accuracy: 0.520000\n",
            "Iter:    100 | Cost: 0.846844 | Accuracy: 0.320000\n",
            "Iter:    200 | Cost: 0.761401 | Accuracy: 0.400000\n",
            "Iter:    300 | Cost: 0.711434 | Accuracy: 0.520000\n",
            "Iter:    400 | Cost: 0.640126 | Accuracy: 0.520000\n",
            "Iter:    500 | Cost: 0.536676 | Accuracy: 0.540000\n",
            "Iter:    600 | Cost: 0.536463 | Accuracy: 0.620000\n",
            "Iter:    700 | Cost: 0.454172 | Accuracy: 0.580000\n",
            "Iter:    800 | Cost: 0.420649 | Accuracy: 0.520000\n",
            "Iter:    900 | Cost: 0.376861 | Accuracy: 0.680000\n",
            "Iter:   1000 | Cost: 0.398010 | Accuracy: 0.680000\n",
            "Iter:   1100 | Cost: 0.349731 | Accuracy: 0.580000\n",
            "Iter:   1199 | Cost: 0.503147 | Accuracy: 0.640000\n"
          ],
          "name": "stdout"
        }
      ]
    },
    {
      "cell_type": "markdown",
      "metadata": {
        "id": "cASnH74xRzvb",
        "colab_type": "text"
      },
      "source": [
        "### Showing results in graph"
      ]
    },
    {
      "cell_type": "code",
      "metadata": {
        "id": "7DmdHXOf6y16",
        "colab_type": "code",
        "colab": {
          "base_uri": "https://localhost:8080/",
          "height": 573
        },
        "outputId": "a3141bd8-a0bb-4701-c436-f8243e1ad835"
      },
      "source": [
        "plot(he_history, title='with He Initialization Training')"
      ],
      "execution_count": 26,
      "outputs": [
        {
          "output_type": "display_data",
          "data": {
            "image/png": "[encoded data removed]",
            "text/plain": [
              "<Figure size 432x288 with 1 Axes>"
            ]
          },
          "metadata": {
            "tags": []
          }
        },
        {
          "output_type": "display_data",
          "data": {
            "image/png": "[encoded data removed]",
            "text/plain": [
              "<Figure size 432x288 with 1 Axes>"
            ]
          },
          "metadata": {
            "tags": []
          }
        }
      ]
    },
    {
      "cell_type": "code",
      "metadata": {
        "id": "T-y23k55sULc",
        "colab_type": "code",
        "colab": {
          "base_uri": "https://localhost:8080/",
          "height": 573
        },
        "outputId": "f929e7ef-761a-4942-fc4c-7d87e0f809fa"
      },
      "source": [
        "plot(l2_history, title='with L2 Regularization Training')"
      ],
      "execution_count": 27,
      "outputs": [
        {
          "output_type": "display_data",
          "data": {
            "image/png": "[encoded data removed]",
            "text/plain": [
              "<Figure size 432x288 with 1 Axes>"
            ]
          },
          "metadata": {
            "tags": []
          }
        },
        {
          "output_type": "display_data",
          "data": {
            "image/png": "[encoded data removed]",
            "text/plain": [
              "<Figure size 432x288 with 1 Axes>"
            ]
          },
          "metadata": {
            "tags": []
          }
        }
      ]
    },
    {
      "cell_type": "code",
      "metadata": {
        "id": "xSi8kB6QsabJ",
        "colab_type": "code",
        "colab": {
          "base_uri": "https://localhost:8080/",
          "height": 573
        },
        "outputId": "5765c8da-d27b-493c-d6aa-25207379eead"
      },
      "source": [
        "plot(dropout_history, title='with Dropout Training')"
      ],
      "execution_count": 33,
      "outputs": [
        {
          "output_type": "display_data",
          "data": {
            "image/png": "[encoded data removed]",
            "text/plain": [
              "<Figure size 432x288 with 1 Axes>"
            ]
          },
          "metadata": {
            "tags": []
          }
        },
        {
          "output_type": "display_data",
          "data": {
            "image/png": "[encoded data removed]",
            "text/plain": [
              "<Figure size 432x288 with 1 Axes>"
            ]
          },
          "metadata": {
            "tags": []
          }
        }
      ]
    },
    {
      "cell_type": "code",
      "metadata": {
        "id": "5kaedeJ3sfHp",
        "colab_type": "code",
        "colab": {
          "base_uri": "https://localhost:8080/",
          "height": 573
        },
        "outputId": "81015f23-65e3-4da3-9346-b62d4960b77a"
      },
      "source": [
        "plot(all_history, title='With all methods Training')"
      ],
      "execution_count": 30,
      "outputs": [
        {
          "output_type": "display_data",
          "data": {
            "image/png": "[encoded data removed]",
            "text/plain": [
              "<Figure size 432x288 with 1 Axes>"
            ]
          },
          "metadata": {
            "tags": []
          }
        },
        {
          "output_type": "display_data",
          "data": {
            "image/png": "[encoded data removed]",
            "text/plain": [
              "<Figure size 432x288 with 1 Axes>"
            ]
          },
          "metadata": {
            "tags": []
          }
        }
      ]
    },
    {
      "cell_type": "code",
      "metadata": {
        "id": "4X3UQPJ_vDzm",
        "colab_type": "code",
        "colab": {}
      },
      "source": [
        ""
      ],
      "execution_count": 0,
      "outputs": []
    }
  ]
}