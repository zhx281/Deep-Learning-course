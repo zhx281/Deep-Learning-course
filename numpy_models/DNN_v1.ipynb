{
  "nbformat": 4,
  "nbformat_minor": 0,
  "metadata": {
    "colab": {
      "name": "DNN_v1.ipynb",
      "version": "0.3.2",
      "provenance": []
    },
    "kernelspec": {
      "name": "python3",
      "display_name": "Python 3"
    }
  },
  "cells": [
    {
      "cell_type": "markdown",
      "metadata": {
        "id": "Thghw37PKwgs",
        "colab_type": "text"
      },
      "source": [
        "# Prefix\n",
        "Within this notebook, it contains two modified projects from the course one,  [Neural Networks and Deep Learning](https://www.coursera.org/learn/neural-networks-deep-learning) of the [Deep Learning Specialization](https://www.coursera.org/specializations/deep-learning) on [coursea.org](https://www.coursera.org)."
      ]
    },
    {
      "cell_type": "markdown",
      "metadata": {
        "id": "eLb2iQ-FsV9B",
        "colab_type": "text"
      },
      "source": [
        "# Section 1: Creating Wrappers for a DNN, Deep Neural Network\n",
        "The DNN model is going to be created using the numpy library."
      ]
    },
    {
      "cell_type": "code",
      "metadata": {
        "id": "WJ1sx8N9m9Xd",
        "colab_type": "code",
        "colab": {}
      },
      "source": [
        "import numpy as np"
      ],
      "execution_count": 0,
      "outputs": []
    },
    {
      "cell_type": "markdown",
      "metadata": {
        "id": "E-F0GOYJL84i",
        "colab_type": "text"
      },
      "source": [
        "## Step 1: Creating Some helper functions"
      ]
    },
    {
      "cell_type": "markdown",
      "metadata": {
        "id": "7dzVwjQaMfX5",
        "colab_type": "text"
      },
      "source": [
        "### Activation Functions\n",
        "Create the relu and sigmoid activation function for both forward and backward propagation."
      ]
    },
    {
      "cell_type": "code",
      "metadata": {
        "id": "JCh6nIPDoCsF",
        "colab_type": "code",
        "colab": {}
      },
      "source": [
        "# Basic functions for sigmoid and relu\n",
        "# activation function\n",
        "def relu(Z):\n",
        "  A = np.maximum(0, Z)\n",
        "  return A\n",
        "\n",
        "def sigmoid(Z):\n",
        "  A = 1/(1+np.exp(-Z))\n",
        "  return A\n",
        "\n",
        "# activation function backward\n",
        "def relu_backward(dA, cache):\n",
        "  Z = cache\n",
        "  dZ = np.array(dA, copy=True)\n",
        "  dZ[Z <= 0] = 0\n",
        "  return dZ\n",
        "\n",
        "def sigmoid_backward(dA, cache):\n",
        "  Z = cache\n",
        "  s = 1/(1+np.exp(-Z))\n",
        "  dZ = dA * s * (1-s)\n",
        "  return dZ"
      ],
      "execution_count": 0,
      "outputs": []
    },
    {
      "cell_type": "markdown",
      "metadata": {
        "id": "DdVPruWiMvXM",
        "colab_type": "text"
      },
      "source": [
        "### Simple Parameters initializer"
      ]
    },
    {
      "cell_type": "code",
      "metadata": {
        "id": "oAp95-xDnFDh",
        "colab_type": "code",
        "colab": {}
      },
      "source": [
        "# helper for weights and biases\n",
        "def init_weight(d1, d2):\n",
        "  return np.random.randn(d1, d2) / np.sqrt(d2)\n",
        "\n",
        "def init_bias(d1):\n",
        "  return np.zeros(shape=(d1, 1))"
      ],
      "execution_count": 0,
      "outputs": []
    },
    {
      "cell_type": "markdown",
      "metadata": {
        "id": "0u2Sg3aeM_tl",
        "colab_type": "text"
      },
      "source": [
        "## Step 2: Creating Layers Class\n",
        "The layers class contains some methods for initializing paramters, doing linear forward and applying an activation function."
      ]
    },
    {
      "cell_type": "code",
      "metadata": {
        "id": "-9OVIyjoakaS",
        "colab_type": "code",
        "colab": {}
      },
      "source": [
        "class layers:\n",
        "  def __init__(self, input_dim, unit, activation):\n",
        "    assert(isinstance(input_dim, int)), \"input_dim must be an integer\"\n",
        "    assert(isinstance(unit, int)), \"unit must be an integer\"\n",
        "    assert(activation=='relu' or activation=='sigmoid'), \\\n",
        "      \"activation can only be either relu or sigmoid\"\n",
        "    self.input_dim = input_dim\n",
        "    self.unit = unit\n",
        "    self.activation = activation\n",
        "    self.name = \"\"     # name going to use for identification\n",
        "  \n",
        "  # initializing parameters\n",
        "  def init_parameters(self):\n",
        "    self.W = init_weight(self.unit, self.input_dim)\n",
        "    self.b = init_bias(self.unit)\n",
        "  \n",
        "  # one step linear forward propagation\n",
        "  def matmul(self, X):\n",
        "    self.Z = self.W.dot(X) + self.b\n",
        "    # stores previous layer, weight and bias into linear_cache\n",
        "    self.linear_cache = (np.copy(X), np.copy(self.W), np.copy(self.b))\n",
        "  \n",
        "  def apply_activation(self, X):\n",
        "    self.matmul(X)\n",
        "    # store the linear forward output into activation_cache\n",
        "    self.activation_cache = np.copy(self.Z)\n",
        "    # pick an activation either relu or sigmoid\n",
        "    if self.activation == 'relu':\n",
        "      self.A = relu(self.Z)\n",
        "    elif self.activation == 'sigmoid':\n",
        "      self.A = sigmoid(self.Z)"
      ],
      "execution_count": 0,
      "outputs": []
    },
    {
      "cell_type": "code",
      "metadata": {
        "id": "HEr8XDxTa1OP",
        "colab_type": "code",
        "colab": {}
      },
      "source": [
        "# inheritance of layers class\n",
        "class Dense(layers):\n",
        "  def __init__(self, input_dim, unit, activation='relu', name='Dense', counter=1):\n",
        "    layers.__init__(self, input_dim, unit, activation)\n",
        "    # changing name with Dense_N for the number of layers\n",
        "    self.name = name+'_'+str(counter)\n",
        "    self.init_parameters()"
      ],
      "execution_count": 0,
      "outputs": []
    },
    {
      "cell_type": "markdown",
      "metadata": {
        "id": "EDjQjMHnOXbs",
        "colab_type": "text"
      },
      "source": [
        "## Step 3: Cost function and Backpropapagtion helpers"
      ]
    },
    {
      "cell_type": "markdown",
      "metadata": {
        "id": "uI741eeoOjIT",
        "colab_type": "text"
      },
      "source": [
        "### Cost function"
      ]
    },
    {
      "cell_type": "code",
      "metadata": {
        "id": "O-qWfGWJ9gNv",
        "colab_type": "code",
        "colab": {}
      },
      "source": [
        "# calculating training cost\n",
        "def compute_cost(AL, Y):\n",
        "  m = Y.shape[1]\n",
        "  cost = (1./m)*(-np.dot(Y, np.log(AL).T) - np.dot(1-Y, np.log(1-AL).T))\n",
        "  cost = np.squeeze(cost)\n",
        "  assert(cost.shape==()), \"cost return unexpected shape\"\n",
        "  return cost"
      ],
      "execution_count": 0,
      "outputs": []
    },
    {
      "cell_type": "markdown",
      "metadata": {
        "id": "4FrkuUbxOlZN",
        "colab_type": "text"
      },
      "source": [
        "### Backpropagation Helpers"
      ]
    },
    {
      "cell_type": "code",
      "metadata": {
        "id": "o9lE7J5N7dlr",
        "colab_type": "code",
        "colab": {}
      },
      "source": [
        "# backpropagation formulas\n",
        "def initializing_backprop(pred, Y):\n",
        "  # returns dAL\n",
        "  return -(np.divide(Y, pred) - np.divide(1 - Y, 1 - pred)) \n",
        "\n",
        "# single step linear backward\n",
        "def linear_backward(dZ, linear_cache):\n",
        "  A_prev, W, b = linear_cache\n",
        "  m = A_prev.shape[1]\n",
        "  # calculating the gradients\n",
        "  dW = 1./m * np.dot(dZ, A_prev.T)\n",
        "  db = 1./m * np.sum(dZ, axis=1, keepdims=True)\n",
        "  dAL = np.dot(W.T, dZ)\n",
        "  return dAL, dW, db\n",
        "\n",
        "# update parameter\n",
        "def update(Parameter, dParameter, learning_rate):\n",
        "  return Parameter - (learning_rate*dParameter)"
      ],
      "execution_count": 0,
      "outputs": []
    },
    {
      "cell_type": "markdown",
      "metadata": {
        "id": "OFxe42CMOrQ-",
        "colab_type": "text"
      },
      "source": [
        "## Step 4: Create the Models Class\n",
        "The models class initialize the parameters and layers with hidden_units, and specific an out_activation function. This class also contains the forward propagation steps, backward propagation steps, update parameters, training, predict, and evaluation methods."
      ]
    },
    {
      "cell_type": "code",
      "metadata": {
        "id": "0WrEU7adbVxd",
        "colab_type": "code",
        "colab": {}
      },
      "source": [
        "class models:\n",
        "  def __init__(self, hidden_units, out_activation='sigmoid'):\n",
        "    self.out_activation = out_activation\n",
        "    # empty dictionary to store the layers\n",
        "    self.nn = {}\n",
        "    # initializing parameters: weights and biases\n",
        "    L = len(hidden_units)\n",
        "    for l in range(1, L):\n",
        "      d = Dense(hidden_units[l-1], hidden_units[l], counter=l)\n",
        "      # renaming each layer\n",
        "      self.nn[d.name] = d\n",
        "      if l == (L-1):\n",
        "        # store the name of the final layer \n",
        "        self.last_layer = d.name\n",
        "  \n",
        "  # forward propagation\n",
        "  def forward(self, X):\n",
        "    A_prev = X\n",
        "    for name in self.nn.keys():\n",
        "      if name == self.last_layer:\n",
        "        self.nn[name].activation = self.out_activation\n",
        "      self.nn[name].apply_activation(A_prev)\n",
        "      A_prev = self.nn[name].A\n",
        "    # stores the final layer as the output or prediction\n",
        "    self.output = A_prev\n",
        "  \n",
        "  # backward propagation\n",
        "  def backward(self, Y):\n",
        "    assert(self.output.shape == Y.shape), \"label and predict is not the same shape\"\n",
        "    self.grads = {}\n",
        "    # initializing the backpropagation\n",
        "    dAL = initializing_backprop(self.output, Y)\n",
        "    \n",
        "    # reversing the layers\n",
        "    for name in reversed(list(self.nn.keys())):\n",
        "      activation_cache = self.nn[name].activation_cache\n",
        "      act = self.nn[name].activation\n",
        "      if act == 'sigmoid':\n",
        "        dZ = sigmoid_backward(dAL, activation_cache)\n",
        "      elif act == 'relu':\n",
        "        dZ = relu_backward(dAL, activation_cache)\n",
        "      # linear backward\n",
        "      dAL, dW, db = linear_backward(dZ, self.nn[name].linear_cache)\n",
        "      # storing gradients\n",
        "      self.grads[name] = {\"W\": dW, \"b\": db}\n",
        "  \n",
        "  # update parameters with learning_rate and gradients\n",
        "  def update_parameters(self, learning_rate):\n",
        "    for name in self.nn.keys():\n",
        "      self.nn[name].W = update(self.nn[name].W, self.grads[name]['W'], learning_rate)\n",
        "      self.nn[name].b = update(self.nn[name].b, self.grads[name]['b'], learning_rate)\n",
        "  \n",
        "  # training process of the model\n",
        "  # if there is validation set also return accuracy at each display step\n",
        "  def train(self, X, Y, num_iters, lr=0.01, verbose=True, \n",
        "            display_steps=100, validation_set=None):\n",
        "    # placeholder for cost and accuracy\n",
        "    costs = []\n",
        "    accuracies = []\n",
        "    \n",
        "    for i in range(num_iters):\n",
        "      self.forward(X)\n",
        "      cost = compute_cost(self.output, Y)\n",
        "      self.backward(Y)\n",
        "      self.update_parameters(lr)\n",
        "      \n",
        "      # if verbose print out results\n",
        "      if verbose and i %display_steps==0:\n",
        "        costs.append(cost)\n",
        "        if validation_set is not None:\n",
        "          assert isinstance(validation_set, tuple), \\\n",
        "            'Validation need to be tuple containing input_data, and labels'\n",
        "          _x, _y = validation_set\n",
        "          acc = self.evaluate(_x, _y)\n",
        "          accuracies.append(acc)\n",
        "          print(\"Iter: {:6} | Cost: {:.6f} | Accuracy: {:.6f}\".format(i, cost, acc))\n",
        "        else:\n",
        "          print(\"Iter: {:6} | Cost: {:.6f}\".format(i, cost))\n",
        "      elif not verbose:\n",
        "        costs.append(cost)\n",
        "    \n",
        "    if not verbose:\n",
        "      display_steps = 1\n",
        "    # stores the metrics in history dictionary\n",
        "    history = {'Cost': costs,\n",
        "               'Accuary' : accuracies,\n",
        "               'steps' : display_steps}\n",
        "    return history\n",
        "  \n",
        "  # generate prediction with the forward propagation\n",
        "  def predict(self, X):\n",
        "    self.forward(X)\n",
        "    return self.output\n",
        "  \n",
        "  # evaluate the trained model\n",
        "  def evaluate(self, X, Y):\n",
        "    total_length = X.shape[1]\n",
        "    preds = np.round(self.predict(X))\n",
        "    correct = preds == Y\n",
        "    accuracy = np.sum(correct) / total_length\n",
        "    return accuracy"
      ],
      "execution_count": 0,
      "outputs": []
    },
    {
      "cell_type": "markdown",
      "metadata": {
        "id": "Te5MGCnKqOyM",
        "colab_type": "text"
      },
      "source": [
        "# Section 2: Download the Dataset"
      ]
    },
    {
      "cell_type": "markdown",
      "metadata": {
        "id": "LieMUcWsRFd8",
        "colab_type": "text"
      },
      "source": [
        "### Downloading Dataset"
      ]
    },
    {
      "cell_type": "code",
      "metadata": {
        "id": "GQnhrZM1CdMi",
        "colab_type": "code",
        "colab": {
          "base_uri": "https://localhost:8080/",
          "height": 343
        },
        "outputId": "cb0f85be-b3fa-4f43-f830-b2a6e1cddbab"
      },
      "source": [
        "# downloading the dataset from google drive with a shareable link\n",
        "import os, zipfile\n",
        "\n",
        "if not os.path.exists('/content/catvsnoncat.zip'):\n",
        "  ! wget -O /content/catvsnoncat.zip \"https://drive.google.com/uc?export=download&id=1SLBYw2LPCuNpXzbGXcPCFLgkHL7aB5Iw\"\n",
        "\n",
        "if not os.path.exists('/content/catvsnoncat/'):\n",
        "  ! mkdir /content/catvsnoncat\n",
        "\n",
        "# check if the file was extacted or not\n",
        "h5 = os.listdir('/content/catvsnoncat')\n",
        "if len(h5) == 0:\n",
        "  local_zip = '/content/catvsnoncat.zip'\n",
        "  zip_ref = zipfile.ZipFile(local_zip, 'r')\n",
        "  zip_ref.extractall('/content/catvsnoncat/')\n",
        "  zip_ref.close()\n",
        "\n",
        "print('Zip download and extacted')"
      ],
      "execution_count": 9,
      "outputs": [
        {
          "output_type": "stream",
          "text": [
            "--2019-06-21 03:49:33--  https://drive.google.com/uc?export=download&id=1SLBYw2LPCuNpXzbGXcPCFLgkHL7aB5Iw\n",
            "Resolving drive.google.com (drive.google.com)... 172.217.204.138, 172.217.204.101, 172.217.204.139, ...\n",
            "Connecting to drive.google.com (drive.google.com)|172.217.204.138|:443... connected.\n",
            "HTTP request sent, awaiting response... 302 Moved Temporarily\n",
            "Location: https://doc-0c-64-docs.googleusercontent.com/docs/securesc/ha0ro937gcuc7l7deffksulhg5h7mbp1/5j5ipmlepuah1mm5kldvn6vu1l1soai9/1561082400000/15049674222289829849/*/1SLBYw2LPCuNpXzbGXcPCFLgkHL7aB5Iw?e=download [following]\n",
            "Warning: wildcards not supported in HTTP.\n",
            "--2019-06-21 03:49:33--  https://doc-0c-64-docs.googleusercontent.com/docs/securesc/ha0ro937gcuc7l7deffksulhg5h7mbp1/5j5ipmlepuah1mm5kldvn6vu1l1soai9/1561082400000/15049674222289829849/*/1SLBYw2LPCuNpXzbGXcPCFLgkHL7aB5Iw?e=download\n",
            "Resolving doc-0c-64-docs.googleusercontent.com (doc-0c-64-docs.googleusercontent.com)... 172.217.203.132, 2607:f8b0:400c:c07::84\n",
            "Connecting to doc-0c-64-docs.googleusercontent.com (doc-0c-64-docs.googleusercontent.com)|172.217.203.132|:443... connected.\n",
            "HTTP request sent, awaiting response... 200 OK\n",
            "Length: unspecified [application/zip]\n",
            "Saving to: ‘/content/catvsnoncat.zip’\n",
            "\n",
            "/content/catvsnonca     [ <=>                ]   2.66M  --.-KB/s    in 0.01s   \n",
            "\n",
            "2019-06-21 03:49:34 (179 MB/s) - ‘/content/catvsnoncat.zip’ saved [2787810]\n",
            "\n",
            "Zip download and extacted\n"
          ],
          "name": "stdout"
        }
      ]
    },
    {
      "cell_type": "markdown",
      "metadata": {
        "id": "9zIcQPW2RAEU",
        "colab_type": "text"
      },
      "source": [
        "### Load the dataset"
      ]
    },
    {
      "cell_type": "code",
      "metadata": {
        "id": "yXFXV-zvk2xG",
        "colab_type": "code",
        "colab": {}
      },
      "source": [
        "import h5py\n",
        "from PIL import Image\n",
        "from matplotlib import pyplot as plt"
      ],
      "execution_count": 0,
      "outputs": []
    },
    {
      "cell_type": "code",
      "metadata": {
        "id": "sRnwKwQFqaNI",
        "colab_type": "code",
        "colab": {}
      },
      "source": [
        "# helper for splitting the dataset\n",
        "def load_data(directory):\n",
        "  train_dataset = h5py.File(directory+'/train_catvnoncat.h5', \"r\")\n",
        "  train_set_x_orig = np.array(train_dataset[\"train_set_x\"][:]) # your train set features\n",
        "  train_set_y_orig = np.array(train_dataset[\"train_set_y\"][:]) # your train set labels\n",
        "\n",
        "  test_dataset = h5py.File(directory+'/test_catvnoncat.h5', \"r\")\n",
        "  test_set_x_orig = np.array(test_dataset[\"test_set_x\"][:]) # your test set features\n",
        "  test_set_y_orig = np.array(test_dataset[\"test_set_y\"][:]) # your test set labels\n",
        "\n",
        "  classes = np.array(test_dataset[\"list_classes\"][:]) # the list of classes\n",
        "\n",
        "  train_set_y_orig = train_set_y_orig.reshape((1, train_set_y_orig.shape[0]))\n",
        "  test_set_y_orig = test_set_y_orig.reshape((1, test_set_y_orig.shape[0]))\n",
        "\n",
        "  return train_set_x_orig, train_set_y_orig, test_set_x_orig, test_set_y_orig, classes"
      ],
      "execution_count": 0,
      "outputs": []
    },
    {
      "cell_type": "code",
      "metadata": {
        "id": "B4oU9zHGqpr6",
        "colab_type": "code",
        "colab": {}
      },
      "source": [
        "# splitting the dataset into training and testing\n",
        "train_x_orig, train_y, test_x_orig, test_y, classes = load_data('/content/catvsnoncat')"
      ],
      "execution_count": 0,
      "outputs": []
    },
    {
      "cell_type": "markdown",
      "metadata": {
        "id": "wdX_U1UmRRWR",
        "colab_type": "text"
      },
      "source": [
        "### Getting to know the Dataset"
      ]
    },
    {
      "cell_type": "code",
      "metadata": {
        "id": "X45SwCkyqrns",
        "colab_type": "code",
        "colab": {
          "base_uri": "https://localhost:8080/",
          "height": 286
        },
        "outputId": "c2699e54-8b82-4882-8453-9ea91c972c25"
      },
      "source": [
        "# displaying an image from dataset\n",
        "index = 10\n",
        "plt.imshow(train_x_orig[index])\n",
        "print (\"y = \" + str(train_y[0,index]) + \n",
        "      \". It's a \" + classes[train_y[0,index]].decode(\"utf-8\") + \" picture.\")"
      ],
      "execution_count": 14,
      "outputs": [
        {
          "output_type": "stream",
          "text": [
            "y = 0. It's a non-cat picture.\n"
          ],
          "name": "stdout"
        },
        {
          "output_type": "display_data",
          "data": {
            "image/png": "[encoded data removed]",
            "text/plain": [
              "<Figure size 432x288 with 1 Axes>"
            ]
          },
          "metadata": {
            "tags": []
          }
        }
      ]
    },
    {
      "cell_type": "code",
      "metadata": {
        "id": "NsZzsARoqtU1",
        "colab_type": "code",
        "colab": {
          "base_uri": "https://localhost:8080/",
          "height": 136
        },
        "outputId": "216aaf87-3c4d-4e6d-ac20-01437b5d78c3"
      },
      "source": [
        "# Explore your dataset \n",
        "m_train = train_x_orig.shape[0]\n",
        "num_px = train_x_orig.shape[1]\n",
        "m_test = test_x_orig.shape[0]\n",
        "\n",
        "print (\"Number of training examples: \" + str(m_train))\n",
        "print (\"Number of testing examples: \" + str(m_test))\n",
        "print (\"Each image is of size: (\" + str(num_px) + \", \" + str(num_px) + \", 3)\")\n",
        "print (\"train_x_orig shape: \" + str(train_x_orig.shape))\n",
        "print (\"train_y shape: \" + str(train_y.shape))\n",
        "print (\"test_x_orig shape: \" + str(test_x_orig.shape))\n",
        "print (\"test_y shape: \" + str(test_y.shape))"
      ],
      "execution_count": 15,
      "outputs": [
        {
          "output_type": "stream",
          "text": [
            "Number of training examples: 209\n",
            "Number of testing examples: 50\n",
            "Each image is of size: (64, 64, 3)\n",
            "train_x_orig shape: (209, 64, 64, 3)\n",
            "train_y shape: (1, 209)\n",
            "test_x_orig shape: (50, 64, 64, 3)\n",
            "test_y shape: (1, 50)\n"
          ],
          "name": "stdout"
        }
      ]
    },
    {
      "cell_type": "markdown",
      "metadata": {
        "id": "WtdT74nVRdBI",
        "colab_type": "text"
      },
      "source": [
        "### Reshaping and Standardize the Dataset"
      ]
    },
    {
      "cell_type": "code",
      "metadata": {
        "id": "YYR1WgOAqvXO",
        "colab_type": "code",
        "colab": {
          "base_uri": "https://localhost:8080/",
          "height": 51
        },
        "outputId": "c846c92e-b763-491a-aa96-00651d1583b7"
      },
      "source": [
        "# Reshape the training and test examples \n",
        "train_x_flatten = train_x_orig.reshape(train_x_orig.shape[0], -1).T   # The \"-1\" makes reshape flatten the remaining dimensions\n",
        "test_x_flatten = test_x_orig.reshape(test_x_orig.shape[0], -1).T\n",
        "\n",
        "# Standardize data to have feature values between 0 and 1.\n",
        "train_x = train_x_flatten/255.\n",
        "test_x = test_x_flatten/255.\n",
        "\n",
        "print (\"train_x's shape: \" + str(train_x.shape))\n",
        "print (\"test_x's shape: \" + str(test_x.shape))"
      ],
      "execution_count": 16,
      "outputs": [
        {
          "output_type": "stream",
          "text": [
            "train_x's shape: (12288, 209)\n",
            "test_x's shape: (12288, 50)\n"
          ],
          "name": "stdout"
        }
      ]
    },
    {
      "cell_type": "markdown",
      "metadata": {
        "id": "d2_Nh-S_wxSB",
        "colab_type": "text"
      },
      "source": [
        "# Section 3: Training the Model"
      ]
    },
    {
      "cell_type": "markdown",
      "metadata": {
        "id": "HodEUeaKRu5w",
        "colab_type": "text"
      },
      "source": [
        "### Model Training"
      ]
    },
    {
      "cell_type": "code",
      "metadata": {
        "id": "urtIxyr_qxEv",
        "colab_type": "code",
        "colab": {}
      },
      "source": [
        "# initializing the model with hidden units\n",
        "model = models([12288, 128, 64, 32, 16, 1])"
      ],
      "execution_count": 0,
      "outputs": []
    },
    {
      "cell_type": "code",
      "metadata": {
        "id": "EjE0Aqreq3fj",
        "colab_type": "code",
        "colab": {
          "base_uri": "https://localhost:8080/",
          "height": 272
        },
        "outputId": "0d8cfde1-92df-453b-e35a-d2628e5f98f8"
      },
      "source": [
        "history = model.train(train_x, train_y,\n",
        "                      num_iters=1500, lr=0.0075,\n",
        "                      validation_set=(test_x, test_y))"
      ],
      "execution_count": 18,
      "outputs": [
        {
          "output_type": "stream",
          "text": [
            "Iter:      0 | Cost: 0.675342 | Accuracy: 0.340000\n",
            "Iter:    100 | Cost: 0.540578 | Accuracy: 0.380000\n",
            "Iter:    200 | Cost: 0.478992 | Accuracy: 0.700000\n",
            "Iter:    300 | Cost: 0.410263 | Accuracy: 0.720000\n",
            "Iter:    400 | Cost: 0.338570 | Accuracy: 0.740000\n",
            "Iter:    500 | Cost: 0.255208 | Accuracy: 0.760000\n",
            "Iter:    600 | Cost: 0.255660 | Accuracy: 0.800000\n",
            "Iter:    700 | Cost: 0.098976 | Accuracy: 0.740000\n",
            "Iter:    800 | Cost: 0.052958 | Accuracy: 0.740000\n",
            "Iter:    900 | Cost: 0.030090 | Accuracy: 0.740000\n",
            "Iter:   1000 | Cost: 0.018690 | Accuracy: 0.740000\n",
            "Iter:   1100 | Cost: 0.013381 | Accuracy: 0.740000\n",
            "Iter:   1200 | Cost: 0.010156 | Accuracy: 0.740000\n",
            "Iter:   1300 | Cost: 0.008049 | Accuracy: 0.740000\n",
            "Iter:   1400 | Cost: 0.006582 | Accuracy: 0.740000\n"
          ],
          "name": "stdout"
        }
      ]
    },
    {
      "cell_type": "markdown",
      "metadata": {
        "id": "cASnH74xRzvb",
        "colab_type": "text"
      },
      "source": [
        "### Showing results in graph"
      ]
    },
    {
      "cell_type": "code",
      "metadata": {
        "id": "l9n4GtQH1Qgp",
        "colab_type": "code",
        "colab": {
          "base_uri": "https://localhost:8080/",
          "height": 573
        },
        "outputId": "8e34ff87-02f0-4ac8-a53a-3976ce8233ff"
      },
      "source": [
        "# plotting the result\n",
        "for key in history.keys():\n",
        "  if key != 'steps':\n",
        "    plt.plot(np.squeeze(history[key]))\n",
        "    plt.ylabel(key)\n",
        "    plt.xlabel('iterations (per'+ str(history['steps']) + 'step)')\n",
        "    plt.title('Training ' + key)\n",
        "    plt.show()"
      ],
      "execution_count": 19,
      "outputs": [
        {
          "output_type": "display_data",
          "data": {
            "image/png": "[encoded data removed]",
            "text/plain": [
              "<Figure size 432x288 with 1 Axes>"
            ]
          },
          "metadata": {
            "tags": []
          }
        },
        {
          "output_type": "display_data",
          "data": {
            "image/png": "[encoded data removed]",
            "text/plain": [
              "<Figure size 432x288 with 1 Axes>"
            ]
          },
          "metadata": {
            "tags": []
          }
        }
      ]
    },
    {
      "cell_type": "code",
      "metadata": {
        "id": "7DmdHXOf6y16",
        "colab_type": "code",
        "colab": {}
      },
      "source": [
        ""
      ],
      "execution_count": 0,
      "outputs": []
    }
  ]
}